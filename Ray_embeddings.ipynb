{
 "cells": [
  {
   "cell_type": "code",
   "execution_count": 1,
   "id": "978d9677",
   "metadata": {},
   "outputs": [],
   "source": [
    "import requests\n",
    "import json"
   ]
  },
  {
   "cell_type": "code",
   "execution_count": 2,
   "id": "2af5d9a8",
   "metadata": {},
   "outputs": [],
   "source": [
    "class Embedder:\n",
    "    def __init__(self, model_name):\n",
    "        # Updated base URL to the new endpoint\n",
    "        base_url = \"http://ray.ml.uat.us.workloads.elizacloud.com/serve/\"\n",
    "        \n",
    "        if model_name == \"e5_mistral_embed_384\":\n",
    "            self.url = base_url + \"e5embed384\"\n",
    "        else:\n",
    "            raise ValueError(f\"Unsupported model name: {model_name}\")\n",
    "\n",
    "        self.headers = {\"Content-Type\": \"application/json\"}\n",
    "        print(f\"[INFO] Initialized Embedder with URL: {self.url}\")\n",
    "\n",
    "    def get_embeddings(self, texts):\n",
    "        data = {\"texts\": texts}\n",
    "        print(f\"[DEBUG] Sending data: {data} to {self.url}\")\n",
    "        \n",
    "        try:\n",
    "            response = requests.post(self.url, headers=self.headers, json=data, verify=False)\n",
    "            print(f\"[DEBUG] Received response with status code: {response.status_code}\")\n",
    "            response.raise_for_status()\n",
    "\n",
    "            response_json = response.json()\n",
    "            print(\"[INFO] API Response:\", response_json)\n",
    "\n",
    "            # Check for embedding field in the response\n",
    "            if \"dense_embeddings\" in response_json:\n",
    "                embeddings = response_json[\"dense_embeddings\"]\n",
    "                print(\"[INFO] Found dense_embeddings directly in response.\")\n",
    "                return embeddings\n",
    "            elif \"result\" in response_json:\n",
    "                # Try to convert the result if it's a string\n",
    "                if isinstance(response_json[\"result\"], str):\n",
    "                    print(\"[DEBUG] Parsing 'result' string into JSON...\")\n",
    "                    response_json[\"result\"] = json.loads(response_json[\"result\"])\n",
    "                    \n",
    "                if \"dense_embeddings\" in response_json[\"result\"]:\n",
    "                    embeddings = response_json[\"result\"][\"dense_embeddings\"]\n",
    "                    print(\"[INFO] Found dense_embeddings inside result.\")\n",
    "                    return embeddings\n",
    "                \n",
    "            raise ValueError(f\"Unexpected API response format: {response_json}\")\n",
    "        except requests.exceptions.RequestException as e:\n",
    "            print(f\"[ERROR] API Request Error: {e}\")\n",
    "            return None\n",
    "        except ValueError as e:\n",
    "            print(f\"[ERROR] Response Parsing Error: {e}\")\n",
    "            return None"
   ]
  },
  {
   "cell_type": "code",
   "execution_count": 3,
   "id": "958373f6",
   "metadata": {},
   "outputs": [
    {
     "name": "stdout",
     "output_type": "stream",
     "text": [
      "[INFO] Initialized Embedder with URL: http://ray.ml.uat.us.workloads.elizacloud.com/serve/e5embed384\n",
      "[INFO] Requesting embeddings for sentences: ['Hello, world!']\n",
      "[DEBUG] Sending data: {'texts': ['Hello, world!']} to http://ray.ml.uat.us.workloads.elizacloud.com/serve/e5embed384\n",
      "[ERROR] API Request Error: HTTPConnectionPool(host='ray.ml.uat.us.workloads.elizacloud.com', port=80): Max retries exceeded with url: /serve/e5embed384 (Caused by ConnectTimeoutError(<urllib3.connection.HTTPConnection object at 0x749c16250a60>, 'Connection to ray.ml.uat.us.workloads.elizacloud.com timed out. (connect timeout=None)'))\n",
      "Unable to retrieve embedding vectors.\n"
     ]
    }
   ],
   "source": [
    "e5_embedder = Embedder(\"e5_mistral_embed_384\")\n",
    "\n",
    "test_sentences = [\n",
    "    \"Hello, world!\"\n",
    "]\n",
    "print(f\"[INFO] Requesting embeddings for sentences: {test_sentences}\")\n",
    "\n",
    "# Get the embeddings\n",
    "embedding_vectors = e5_embedder.get_embeddings(test_sentences)\n",
    "\n",
    "if embedding_vectors is not None:\n",
    "    print(\"Embedding Vectors:\")\n",
    "    print(json.dumps(embedding_vectors, indent=2))\n",
    "else:\n",
    "    print(\"Unable to retrieve embedding vectors.\")"
   ]
  }
 ],
 "metadata": {
  "kernelspec": {
   "display_name": "Python 3",
   "language": "python",
   "name": "python3"
  },
  "language_info": {
   "codemirror_mode": {
    "name": "ipython",
    "version": 3
   },
   "file_extension": ".py",
   "mimetype": "text/x-python",
   "name": "python",
   "nbconvert_exporter": "python",
   "pygments_lexer": "ipython3",
   "version": "3.10.12"
  }
 },
 "nbformat": 4,
 "nbformat_minor": 5
}
